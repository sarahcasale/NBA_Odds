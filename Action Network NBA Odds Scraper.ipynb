{
 "cells": [
  {
   "cell_type": "code",
   "execution_count": 68,
   "metadata": {},
   "outputs": [],
   "source": [
    "from bs4 import BeautifulSoup\n",
    "import requests\n",
    "import pandas as pd\n",
    "import datetime\n",
    "from datetime import datetime"
   ]
  },
  {
   "cell_type": "code",
   "execution_count": 69,
   "metadata": {},
   "outputs": [],
   "source": [
    "# Action Network URL.\n",
    "nba_url = 'https://www.actionnetwork.com/nba/odds'\n",
    "\n",
    "# Takes the URL and makes it an html - takes in a string (URL) and returns\n",
    "# the html in string form.\n",
    "def get_url(url):\n",
    "  html_str = requests.get(url).text\n",
    "  return html_str"
   ]
  },
  {
   "cell_type": "code",
   "execution_count": 70,
   "metadata": {},
   "outputs": [],
   "source": [
    "# Stores the HTML string in a variable.\n",
    "html = get_url(nba_url)"
   ]
  },
  {
   "cell_type": "code",
   "execution_count": 71,
   "metadata": {},
   "outputs": [],
   "source": [
    "# Creates a list to store the scraped Odds.\n",
    "odds = []"
   ]
  },
  {
   "cell_type": "code",
   "execution_count": 72,
   "metadata": {},
   "outputs": [],
   "source": [
    "# Starts to Scrape using BeautifulSoup\n",
    "soup = BeautifulSoup(html)\n",
    "odds_soup = soup.find_all('div', class_='custom-1u3dgby e4ukmj14')"
   ]
  },
  {
   "cell_type": "code",
   "execution_count": 73,
   "metadata": {},
   "outputs": [
    {
     "data": {
      "text/plain": [
       "[<div class=\"custom-1u3dgby e4ukmj14\"><table><thead><tr><th>Scheduled</th><th>Open</th><th class=\"custom-1ui3ly9 ebi37p0\"><a class=\"\" href=\"https://switchboard.actionnetwork.com/offers?bookId=68&amp;stateCode=world&amp;context=web-compareodds-banner&amp;deviceId=\"><div class=\"compare-odds-book-header-cell__logo\"><img alt=\"DraftKings\" class=\"\" height=\"21\" src=\"https://assets.actionnetwork.com/477013_DraftKings@1x.png\"/></div></a></th><th class=\"custom-1ui3ly9 ebi37p0\"><a class=\"\" href=\"https://switchboard.actionnetwork.com/offers?bookId=75&amp;stateCode=world&amp;context=web-compareodds-banner&amp;deviceId=\"><div class=\"compare-odds-book-header-cell__logo\"><img alt=\"BetMGM NJ\" class=\"\" height=\"21\" src=\"https://assets.actionnetwork.com/779359_BetMGM800x200@1x.png\"/></div></a></th><th class=\"custom-1ui3ly9 ebi37p0\"><a class=\"\" href=\"https://switchboard.actionnetwork.com/offers?bookId=69&amp;stateCode=world&amp;context=web-compareodds-banner&amp;deviceId=\"><div class=\"compare-odds-book-header-cell__logo\"><img alt=\"FanDuel NJ\" class=\"\" height=\"21\" src=\"https://assets.actionnetwork.com/53766_FanDuel@1x.png\"/></div></a></th><th class=\"custom-1ui3ly9 ebi37p0\"><a class=\"\" href=\"https://switchboard.actionnetwork.com/offers?bookId=76&amp;stateCode=world&amp;context=web-compareodds-banner&amp;deviceId=\"><div class=\"compare-odds-book-header-cell__logo\"><img alt=\"PointsBet NJ\" class=\"\" height=\"21\" src=\"https://assets.actionnetwork.com/839311_PointsBet384x96.png\"/></div></a></th><th class=\"custom-1ui3ly9 ebi37p0\"><a class=\"\" href=\"https://switchboard.actionnetwork.com/offers?bookId=71&amp;stateCode=world&amp;context=web-compareodds-banner&amp;deviceId=\"><div class=\"compare-odds-book-header-cell__logo\"><img alt=\"SugarHouse\" class=\"\" height=\"21\" src=\"https://assets.actionnetwork.com/322701_Sugarhouse@1x.png\"/></div></a></th><th class=\"custom-1ui3ly9 ebi37p0\"><a class=\"\" href=\"https://switchboard.actionnetwork.com/offers?bookId=79&amp;stateCode=world&amp;context=web-compareodds-banner&amp;deviceId=\"><div class=\"compare-odds-book-header-cell__logo\"><img alt=\"Bet365 NJ\" class=\"\" height=\"21\" src=\"https://assets.actionnetwork.com/243771_Bet365@1x.png\"/></div></a></th><th class=\"custom-1ui3ly9 ebi37p0\"><a class=\"\" href=\"https://switchboard.actionnetwork.com/offers?bookId=247&amp;stateCode=world&amp;context=web-compareodds-banner&amp;deviceId=\"><div class=\"compare-odds-book-header-cell__logo\"><img alt=\"UnibetNJ\" class=\"\" height=\"21\" src=\"https://assets.actionnetwork.com/49811_Unibet@1x.png\"/></div></a></th><th class=\"custom-1ui3ly9 ebi37p0\"><a class=\"\" href=\"https://switchboard.actionnetwork.com/offers?bookId=123&amp;stateCode=world&amp;context=web-compareodds-banner&amp;deviceId=\"><div class=\"compare-odds-book-header-cell__logo\"><img alt=\"Caesars NJ\" class=\"\" height=\"21\" src=\"https://assets.actionnetwork.com/256064_caesars_800x200.png\"/></div></a></th></tr></thead><tbody><tr><td><div class=\"best-odds__game-info best-odds__last-type-cell\"><div class=\"best-odds__game-status\">3RD 7:28</div><a class=\"custom-1acqyub e1ahblxx0\" href=\"/nba-game/hawks-jazz-score-odds-november-9-2021/109369\"><div class=\"game-info__teams\"><div class=\"game-info__team\"><span class=\"game-info__rot-number\">519</span><div class=\"game-info__placeholder\"><div class=\"lazyload-wrapper\"><div class=\"lazyload-placeholder\"></div></div></div><div class=\"game-info__team--desktop\">Hawks</div><div class=\"game-info__team--mobile\">ATL</div></div><div class=\"game-info__score\"><div>64</div></div></div><div class=\"game-info__teams\"><div class=\"game-info__team\"><span class=\"game-info__rot-number\">520</span><div class=\"game-info__placeholder\"><div class=\"lazyload-wrapper\"><div class=\"lazyload-placeholder\"></div></div></div><div class=\"game-info__team--desktop\"><span class=\"game-info__team--desktop\">Jazz</span></div><div class=\"game-info__team--mobile\"><span class=\"game-info__team--mobile\">UTA</span></div></div><div class=\"game-info__score\"><div>73</div></div></div></a></div></td><td><div class=\"best-odds__open-container best-odds__last-type-cell\"><div class=\"best-odds__open-cell\">+7.5</div><div class=\"best-odds__open-cell\">-7.5</div></div></td><td class=\"best-odds__last-type-cell\"><div class=\"best-odds__odds-container\"><div class=\"custom-12j24de ena22470\"><div class=\"book-cell__odds\" data-testid=\"book-cell__odds\"><span class=\"custom-10akt0p ena22471\"><span class=\"custom-wkctv e7ufv0u0\" color=\"nothing\"><svg class=\"highlight-text__arrow highlight-text__arrow--placeholder custom-inrq evhdyr10\" fill=\"#00C358\" height=\"40\" stroke=\"#00C358\" stroke-width=\"0\" viewbox=\"0 0 24 24\" width=\"40\" xmlns=\"https://www.w3.org/2000/svg\"><title>Right Arrow</title><path d=\"M10 6L8.59 7.41 13.17 12l-4.58 4.59L10 18l6-6z\"></path></svg><span class=\"highlight-text__children\">+9</span></span></span><span class=\"book-cell__secondary\"><span class=\"custom-amkfwb e7ufv0u0\" color=\"nothing\"><span class=\"highlight-text__children\">-110</span></span></span></div></div><div class=\"custom-5d751z ena22470\"><div class=\"book-cell__odds\" data-testid=\"book-cell__odds\"><span class=\"custom-1qynun2 ena22471\"><span class=\"custom-wkctv e7ufv0u0\" color=\"nothing\"><svg class=\"highlight-text__arrow highlight-text__arrow--placeholder custom-inrq evhdyr10\" fill=\"#00C358\" height=\"40\" stroke=\"#00C358\" stroke-width=\"0\" viewbox=\"0 0 24 24\" width=\"40\" xmlns=\"https://www.w3.org/2000/svg\"><title>Right Arrow</title><path d=\"M10 6L8.59 7.41 13.17 12l-4.58 4.59L10 18l6-6z\"></path></svg><span class=\"highlight-text__children\">-9</span></span></span><span class=\"book-cell__secondary\"><span class=\"custom-amkfwb e7ufv0u0\" color=\"nothing\"><span class=\"highlight-text__children\">-110</span></span></span></div></div></div></td><td class=\"best-odds__last-type-cell\"><div class=\"best-odds__odds-container\"><div class=\"custom-5d751z ena22470\"><div class=\"book-cell__odds\" data-testid=\"book-cell__odds\"><span class=\"custom-1qynun2 ena22471\"><span class=\"custom-wkctv e7ufv0u0\" color=\"nothing\"><svg class=\"highlight-text__arrow highlight-text__arrow--placeholder custom-inrq evhdyr10\" fill=\"#00C358\" height=\"40\" stroke=\"#00C358\" stroke-width=\"0\" viewbox=\"0 0 24 24\" width=\"40\" xmlns=\"https://www.w3.org/2000/svg\"><title>Right Arrow</title><path d=\"M10 6L8.59 7.41 13.17 12l-4.58 4.59L10 18l6-6z\"></path></svg><span class=\"highlight-text__children\">+7.5</span></span></span><span class=\"book-cell__secondary\"><span class=\"custom-amkfwb e7ufv0u0\" color=\"nothing\"><span class=\"highlight-text__children\">+105</span></span></span></div></div><div class=\"custom-5d751z ena22470\"><div class=\"book-cell__odds\" data-testid=\"book-cell__odds\"><span class=\"custom-1qynun2 ena22471\"><span class=\"custom-wkctv e7ufv0u0\" color=\"nothing\"><svg class=\"highlight-text__arrow highlight-text__arrow--placeholder custom-inrq evhdyr10\" fill=\"#00C358\" height=\"40\" stroke=\"#00C358\" stroke-width=\"0\" viewbox=\"0 0 24 24\" width=\"40\" xmlns=\"https://www.w3.org/2000/svg\"><title>Right Arrow</title><path d=\"M10 6L8.59 7.41 13.17 12l-4.58 4.59L10 18l6-6z\"></path></svg><span class=\"highlight-text__children\">-7.5</span></span></span><span class=\"book-cell__secondary\"><span class=\"custom-amkfwb e7ufv0u0\" color=\"nothing\"><span class=\"highlight-text__children\">-130</span></span></span></div></div></div></td><td class=\"best-odds__last-type-cell\"><div class=\"best-odds__odds-container\"><div class=\"custom-12j24de ena22470\"><div class=\"book-cell__odds\" data-testid=\"book-cell__odds\"><span class=\"custom-10akt0p ena22471\"><span class=\"custom-wkctv e7ufv0u0\" color=\"nothing\"><svg class=\"highlight-text__arrow highlight-text__arrow--placeholder custom-inrq evhdyr10\" fill=\"#00C358\" height=\"40\" stroke=\"#00C358\" stroke-width=\"0\" viewbox=\"0 0 24 24\" width=\"40\" xmlns=\"https://www.w3.org/2000/svg\"><title>Right Arrow</title><path d=\"M10 6L8.59 7.41 13.17 12l-4.58 4.59L10 18l6-6z\"></path></svg><span class=\"highlight-text__children\">+9</span></span></span><span class=\"book-cell__secondary\"><span class=\"custom-amkfwb e7ufv0u0\" color=\"nothing\"><span class=\"highlight-text__children\">-110</span></span></span></div></div><div class=\"custom-5d751z ena22470\"><div class=\"book-cell__odds\" data-testid=\"book-cell__odds\"><span class=\"custom-1qynun2 ena22471\"><span class=\"custom-wkctv e7ufv0u0\" color=\"nothing\"><svg class=\"highlight-text__arrow highlight-text__arrow--placeholder custom-inrq evhdyr10\" fill=\"#00C358\" height=\"40\" stroke=\"#00C358\" stroke-width=\"0\" viewbox=\"0 0 24 24\" width=\"40\" xmlns=\"https://www.w3.org/2000/svg\"><title>Right Arrow</title><path d=\"M10 6L8.59 7.41 13.17 12l-4.58 4.59L10 18l6-6z\"></path></svg><span class=\"highlight-text__children\">-9</span></span></span><span class=\"book-cell__secondary\"><span class=\"custom-amkfwb e7ufv0u0\" color=\"nothing\"><span class=\"highlight-text__children\">-110</span></span></span></div></div></div></td><td class=\"best-odds__last-type-cell\"><div class=\"best-odds__odds-container\"><div class=\"custom-5d751z ena22470\"><div class=\"book-cell__odds\" data-testid=\"book-cell__odds\"><span class=\"custom-1qynun2 ena22471\"><span class=\"custom-wkctv e7ufv0u0\" color=\"nothing\"><svg class=\"highlight-text__arrow highlight-text__arrow--placeholder custom-inrq evhdyr10\" fill=\"#00C358\" height=\"40\" stroke=\"#00C358\" stroke-width=\"0\" viewbox=\"0 0 24 24\" width=\"40\" xmlns=\"https://www.w3.org/2000/svg\"><title>Right Arrow</title><path d=\"M10 6L8.59 7.41 13.17 12l-4.58 4.59L10 18l6-6z\"></path></svg><span class=\"highlight-text__children\">+8.5</span></span></span><span class=\"book-cell__secondary\"><span class=\"custom-amkfwb e7ufv0u0\" color=\"nothing\"><span class=\"highlight-text__children\">-105</span></span></span></div></div><div class=\"custom-5d751z ena22470\"><div class=\"book-cell__odds\" data-testid=\"book-cell__odds\"><span class=\"custom-1qynun2 ena22471\"><span class=\"custom-wkctv e7ufv0u0\" color=\"nothing\"><svg class=\"highlight-text__arrow highlight-text__arrow--placeholder custom-inrq evhdyr10\" fill=\"#00C358\" height=\"40\" stroke=\"#00C358\" stroke-width=\"0\" viewbox=\"0 0 24 24\" width=\"40\" xmlns=\"https://www.w3.org/2000/svg\"><title>Right Arrow</title><path d=\"M10 6L8.59 7.41 13.17 12l-4.58 4.59L10 18l6-6z\"></path></svg><span class=\"highlight-text__children\">-8.5</span></span></span><span class=\"book-cell__secondary\"><span class=\"custom-amkfwb e7ufv0u0\" color=\"nothing\"><span class=\"highlight-text__children\">-115</span></span></span></div></div></div></td><td class=\"best-odds__last-type-cell\"><div class=\"best-odds__odds-container\"><div class=\"custom-5d751z ena22470\"><div class=\"book-cell__odds\" data-testid=\"book-cell__odds\"><span class=\"custom-1qynun2 ena22471\"><span class=\"custom-wkctv e7ufv0u0\" color=\"nothing\"><svg class=\"highlight-text__arrow highlight-text__arrow--placeholder custom-inrq evhdyr10\" fill=\"#00C358\" height=\"40\" stroke=\"#00C358\" stroke-width=\"0\" viewbox=\"0 0 24 24\" width=\"40\" xmlns=\"https://www.w3.org/2000/svg\"><title>Right Arrow</title><path d=\"M10 6L8.59 7.41 13.17 12l-4.58 4.59L10 18l6-6z\"></path></svg><span class=\"highlight-text__children\">+8.5</span></span></span><span class=\"book-cell__secondary\"><span class=\"custom-amkfwb e7ufv0u0\" color=\"nothing\"><span class=\"highlight-text__children\">-110</span></span></span></div></div><div class=\"custom-12j24de ena22470\"><div class=\"book-cell__odds\" data-testid=\"book-cell__odds\"><span class=\"custom-10akt0p ena22471\"><span class=\"custom-wkctv e7ufv0u0\" color=\"nothing\"><svg class=\"highlight-text__arrow highlight-text__arrow--placeholder custom-inrq evhdyr10\" fill=\"#00C358\" height=\"40\" stroke=\"#00C358\" stroke-width=\"0\" viewbox=\"0 0 24 24\" width=\"40\" xmlns=\"https://www.w3.org/2000/svg\"><title>Right Arrow</title><path d=\"M10 6L8.59 7.41 13.17 12l-4.58 4.59L10 18l6-6z\"></path></svg><span class=\"highlight-text__children\">-8.5</span></span></span><span class=\"book-cell__secondary\"><span class=\"custom-amkfwb e7ufv0u0\" color=\"nothing\"><span class=\"highlight-text__children\">-110</span></span></span></div></div></div></td><td class=\"best-odds__last-type-cell\"><div class=\"best-odds__odds-container\"><div class=\"custom-5d751z ena22470\"><div class=\"book-cell__odds\" data-testid=\"book-cell__odds\"><span class=\"custom-1qynun2 ena22471\"><span class=\"custom-wkctv e7ufv0u0\" color=\"nothing\"><svg class=\"highlight-text__arrow highlight-text__arrow--placeholder custom-inrq evhdyr10\" fill=\"#00C358\" height=\"40\" stroke=\"#00C358\" stroke-width=\"0\" viewbox=\"0 0 24 24\" width=\"40\" xmlns=\"https://www.w3.org/2000/svg\"><title>Right Arrow</title><path d=\"M10 6L8.59 7.41 13.17 12l-4.58 4.59L10 18l6-6z\"></path></svg><span class=\"highlight-text__children\">+8.5</span></span></span><span class=\"book-cell__secondary\"><span class=\"custom-amkfwb e7ufv0u0\" color=\"nothing\"><span class=\"highlight-text__children\">-110</span></span></span></div></div><div class=\"custom-12j24de ena22470\"><div class=\"book-cell__odds\" data-testid=\"book-cell__odds\"><span class=\"custom-10akt0p ena22471\"><span class=\"custom-wkctv e7ufv0u0\" color=\"nothing\"><svg class=\"highlight-text__arrow highlight-text__arrow--placeholder custom-inrq evhdyr10\" fill=\"#00C358\" height=\"40\" stroke=\"#00C358\" stroke-width=\"0\" viewbox=\"0 0 24 24\" width=\"40\" xmlns=\"https://www.w3.org/2000/svg\"><title>Right Arrow</title><path d=\"M10 6L8.59 7.41 13.17 12l-4.58 4.59L10 18l6-6z\"></path></svg><span class=\"highlight-text__children\">-8.5</span></span></span><span class=\"book-cell__secondary\"><span class=\"custom-amkfwb e7ufv0u0\" color=\"nothing\"><span class=\"highlight-text__children\">-110</span></span></span></div></div></div></td><td class=\"best-odds__last-type-cell\"><div class=\"best-odds__odds-container\"><div class=\"custom-5d751z ena22470\"><div class=\"book-cell__odds\" data-testid=\"book-cell__odds\"><span class=\"custom-1qynun2 ena22471\"><span class=\"custom-wkctv e7ufv0u0\" color=\"nothing\"><svg class=\"highlight-text__arrow highlight-text__arrow--placeholder custom-inrq evhdyr10\" fill=\"#00C358\" height=\"40\" stroke=\"#00C358\" stroke-width=\"0\" viewbox=\"0 0 24 24\" width=\"40\" xmlns=\"https://www.w3.org/2000/svg\"><title>Right Arrow</title><path d=\"M10 6L8.59 7.41 13.17 12l-4.58 4.59L10 18l6-6z\"></path></svg><span class=\"highlight-text__children\">+8.5</span></span></span><span class=\"book-cell__secondary\"><span class=\"custom-amkfwb e7ufv0u0\" color=\"nothing\"><span class=\"highlight-text__children\">-110</span></span></span></div></div><div class=\"custom-12j24de ena22470\"><div class=\"book-cell__odds\" data-testid=\"book-cell__odds\"><span class=\"custom-10akt0p ena22471\"><span class=\"custom-wkctv e7ufv0u0\" color=\"nothing\"><svg class=\"highlight-text__arrow highlight-text__arrow--placeholder custom-inrq evhdyr10\" fill=\"#00C358\" height=\"40\" stroke=\"#00C358\" stroke-width=\"0\" viewbox=\"0 0 24 24\" width=\"40\" xmlns=\"https://www.w3.org/2000/svg\"><title>Right Arrow</title><path d=\"M10 6L8.59 7.41 13.17 12l-4.58 4.59L10 18l6-6z\"></path></svg><span class=\"highlight-text__children\">-8.5</span></span></span><span class=\"book-cell__secondary\"><span class=\"custom-amkfwb e7ufv0u0\" color=\"nothing\"><span class=\"highlight-text__children\">-110</span></span></span></div></div></div></td><td class=\"best-odds__last-type-cell\"><div class=\"best-odds__odds-container\"><div class=\"custom-5d751z ena22470\"><div class=\"book-cell__odds\" data-testid=\"book-cell__odds\"><span class=\"custom-1qynun2 ena22471\"><span class=\"custom-wkctv e7ufv0u0\" color=\"nothing\"><svg class=\"highlight-text__arrow highlight-text__arrow--placeholder custom-inrq evhdyr10\" fill=\"#00C358\" height=\"40\" stroke=\"#00C358\" stroke-width=\"0\" viewbox=\"0 0 24 24\" width=\"40\" xmlns=\"https://www.w3.org/2000/svg\"><title>Right Arrow</title><path d=\"M10 6L8.59 7.41 13.17 12l-4.58 4.59L10 18l6-6z\"></path></svg><span class=\"highlight-text__children\">+8.5</span></span></span><span class=\"book-cell__secondary\"><span class=\"custom-amkfwb e7ufv0u0\" color=\"nothing\"><span class=\"highlight-text__children\">-110</span></span></span></div></div><div class=\"custom-12j24de ena22470\"><div class=\"book-cell__odds\" data-testid=\"book-cell__odds\"><span class=\"custom-10akt0p ena22471\"><span class=\"custom-wkctv e7ufv0u0\" color=\"nothing\"><svg class=\"highlight-text__arrow highlight-text__arrow--placeholder custom-inrq evhdyr10\" fill=\"#00C358\" height=\"40\" stroke=\"#00C358\" stroke-width=\"0\" viewbox=\"0 0 24 24\" width=\"40\" xmlns=\"https://www.w3.org/2000/svg\"><title>Right Arrow</title><path d=\"M10 6L8.59 7.41 13.17 12l-4.58 4.59L10 18l6-6z\"></path></svg><span class=\"highlight-text__children\">-8.5</span></span></span><span class=\"book-cell__secondary\"><span class=\"custom-amkfwb e7ufv0u0\" color=\"nothing\"><span class=\"highlight-text__children\">-110</span></span></span></div></div></div></td></tr><tr><td><div class=\"best-odds__game-info best-odds__last-type-cell\"><div class=\"best-odds__game-status\">END 1ST</div><a class=\"custom-1acqyub e1ahblxx0\" href=\"/nba-game/trail-blazers-clippers-score-odds-november-9-2021/108968\"><div class=\"game-info__teams\"><div class=\"game-info__team\"><span class=\"game-info__rot-number\">521</span><div class=\"game-info__placeholder\"><div class=\"lazyload-wrapper\"><div class=\"lazyload-placeholder\"></div></div></div><div class=\"game-info__team--desktop\">Trail Blazers</div><div class=\"game-info__team--mobile\">POR</div></div><div class=\"game-info__score\"><div>26</div></div></div><div class=\"game-info__teams\"><div class=\"game-info__team\"><span class=\"game-info__rot-number\">522</span><div class=\"game-info__placeholder\"><div class=\"lazyload-wrapper\"><div class=\"lazyload-placeholder\"></div></div></div><div class=\"game-info__team--desktop\"><span class=\"game-info__team--desktop\">Clippers</span></div><div class=\"game-info__team--mobile\"><span class=\"game-info__team--mobile\">LAC</span></div></div><div class=\"game-info__score\"><div>33</div></div></div></a></div></td><td><div class=\"best-odds__open-container best-odds__last-type-cell\"><div class=\"best-odds__open-cell\">+3.5</div><div class=\"best-odds__open-cell\">-3.5</div></div></td><td class=\"best-odds__last-type-cell\"><div class=\"best-odds__odds-container\"><div class=\"custom-5d751z ena22470\"><div class=\"book-cell__odds\" data-testid=\"book-cell__odds\"><span class=\"custom-1qynun2 ena22471\"><span class=\"custom-wkctv e7ufv0u0\" color=\"nothing\"><svg class=\"highlight-text__arrow highlight-text__arrow--placeholder custom-inrq evhdyr10\" fill=\"#00C358\" height=\"40\" stroke=\"#00C358\" stroke-width=\"0\" viewbox=\"0 0 24 24\" width=\"40\" xmlns=\"https://www.w3.org/2000/svg\"><title>Right Arrow</title><path d=\"M10 6L8.59 7.41 13.17 12l-4.58 4.59L10 18l6-6z\"></path></svg><span class=\"highlight-text__children\">+3</span></span></span><span class=\"book-cell__secondary\"><span class=\"custom-amkfwb e7ufv0u0\" color=\"nothing\"><span class=\"highlight-text__children\">-110</span></span></span></div></div><div class=\"custom-5d751z ena22470\"><div class=\"book-cell__odds\" data-testid=\"book-cell__odds\"><span class=\"custom-1qynun2 ena22471\"><span class=\"custom-wkctv e7ufv0u0\" color=\"nothing\"><svg class=\"highlight-text__arrow highlight-text__arrow--placeholder custom-inrq evhdyr10\" fill=\"#00C358\" height=\"40\" stroke=\"#00C358\" stroke-width=\"0\" viewbox=\"0 0 24 24\" width=\"40\" xmlns=\"https://www.w3.org/2000/svg\"><title>Right Arrow</title><path d=\"M10 6L8.59 7.41 13.17 12l-4.58 4.59L10 18l6-6z\"></path></svg><span class=\"highlight-text__children\">-3</span></span></span><span class=\"book-cell__secondary\"><span class=\"custom-amkfwb e7ufv0u0\" color=\"nothing\"><span class=\"highlight-text__children\">-110</span></span></span></div></div></div></td><td class=\"best-odds__last-type-cell\"><div class=\"best-odds__odds-container\"><div class=\"custom-5d751z ena22470\"><div class=\"book-cell__odds\" data-testid=\"book-cell__odds\"><span class=\"custom-1qynun2 ena22471\"><span class=\"custom-wkctv e7ufv0u0\" color=\"nothing\"><svg class=\"highlight-text__arrow highlight-text__arrow--placeholder custom-inrq evhdyr10\" fill=\"#00C358\" height=\"40\" stroke=\"#00C358\" stroke-width=\"0\" viewbox=\"0 0 24 24\" width=\"40\" xmlns=\"https://www.w3.org/2000/svg\"><title>Right Arrow</title><path d=\"M10 6L8.59 7.41 13.17 12l-4.58 4.59L10 18l6-6z\"></path></svg><span class=\"highlight-text__children\">+2.5</span></span></span><span class=\"book-cell__secondary\"><span class=\"custom-amkfwb e7ufv0u0\" color=\"nothing\"><span class=\"highlight-text__children\">-110</span></span></span></div></div><div class=\"custom-12j24de ena22470\"><div class=\"book-cell__odds\" data-testid=\"book-cell__odds\"><span class=\"custom-10akt0p ena22471\"><span class=\"custom-wkctv e7ufv0u0\" color=\"nothing\"><svg class=\"highlight-text__arrow highlight-text__arrow--placeholder custom-inrq evhdyr10\" fill=\"#00C358\" height=\"40\" stroke=\"#00C358\" stroke-width=\"0\" viewbox=\"0 0 24 24\" width=\"40\" xmlns=\"https://www.w3.org/2000/svg\"><title>Right Arrow</title><path d=\"M10 6L8.59 7.41 13.17 12l-4.58 4.59L10 18l6-6z\"></path></svg><span class=\"highlight-text__children\">-2.5</span></span></span><span class=\"book-cell__secondary\"><span class=\"custom-amkfwb e7ufv0u0\" color=\"nothing\"><span class=\"highlight-text__children\">-110</span></span></span></div></div></div></td><td class=\"best-odds__last-type-cell\"><div class=\"best-odds__odds-container\"><div class=\"custom-5d751z ena22470\"><div class=\"book-cell__odds\" data-testid=\"book-cell__odds\"><span class=\"custom-1qynun2 ena22471\"><span class=\"custom-wkctv e7ufv0u0\" color=\"nothing\"><svg class=\"highlight-text__arrow highlight-text__arrow--placeholder custom-inrq evhdyr10\" fill=\"#00C358\" height=\"40\" stroke=\"#00C358\" stroke-width=\"0\" viewbox=\"0 0 24 24\" width=\"40\" xmlns=\"https://www.w3.org/2000/svg\"><title>Right Arrow</title><path d=\"M10 6L8.59 7.41 13.17 12l-4.58 4.59L10 18l6-6z\"></path></svg><span class=\"highlight-text__children\">+3</span></span></span><span class=\"book-cell__secondary\"><span class=\"custom-amkfwb e7ufv0u0\" color=\"nothing\"><span class=\"highlight-text__children\">-110</span></span></span></div></div><div class=\"custom-5d751z ena22470\"><div class=\"book-cell__odds\" data-testid=\"book-cell__odds\"><span class=\"custom-1qynun2 ena22471\"><span class=\"custom-wkctv e7ufv0u0\" color=\"nothing\"><svg class=\"highlight-text__arrow highlight-text__arrow--placeholder custom-inrq evhdyr10\" fill=\"#00C358\" height=\"40\" stroke=\"#00C358\" stroke-width=\"0\" viewbox=\"0 0 24 24\" width=\"40\" xmlns=\"https://www.w3.org/2000/svg\"><title>Right Arrow</title><path d=\"M10 6L8.59 7.41 13.17 12l-4.58 4.59L10 18l6-6z\"></path></svg><span class=\"highlight-text__children\">-3</span></span></span><span class=\"book-cell__secondary\"><span class=\"custom-amkfwb e7ufv0u0\" color=\"nothing\"><span class=\"highlight-text__children\">-110</span></span></span></div></div></div></td><td class=\"best-odds__last-type-cell\"><div class=\"best-odds__odds-container\"><div class=\"custom-5d751z ena22470\"><div class=\"book-cell__odds\" data-testid=\"book-cell__odds\"><span class=\"custom-1qynun2 ena22471\"><span class=\"custom-wkctv e7ufv0u0\" color=\"nothing\"><svg class=\"highlight-text__arrow highlight-text__arrow--placeholder custom-inrq evhdyr10\" fill=\"#00C358\" height=\"40\" stroke=\"#00C358\" stroke-width=\"0\" viewbox=\"0 0 24 24\" width=\"40\" xmlns=\"https://www.w3.org/2000/svg\"><title>Right Arrow</title><path d=\"M10 6L8.59 7.41 13.17 12l-4.58 4.59L10 18l6-6z\"></path></svg><span class=\"highlight-text__children\">+3</span></span></span><span class=\"book-cell__secondary\"><span class=\"custom-amkfwb e7ufv0u0\" color=\"nothing\"><span class=\"highlight-text__children\">-110</span></span></span></div></div><div class=\"custom-5d751z ena22470\"><div class=\"book-cell__odds\" data-testid=\"book-cell__odds\"><span class=\"custom-1qynun2 ena22471\"><span class=\"custom-wkctv e7ufv0u0\" color=\"nothing\"><svg class=\"highlight-text__arrow highlight-text__arrow--placeholder custom-inrq evhdyr10\" fill=\"#00C358\" height=\"40\" stroke=\"#00C358\" stroke-width=\"0\" viewbox=\"0 0 24 24\" width=\"40\" xmlns=\"https://www.w3.org/2000/svg\"><title>Right Arrow</title><path d=\"M10 6L8.59 7.41 13.17 12l-4.58 4.59L10 18l6-6z\"></path></svg><span class=\"highlight-text__children\">-3</span></span></span><span class=\"book-cell__secondary\"><span class=\"custom-amkfwb e7ufv0u0\" color=\"nothing\"><span class=\"highlight-text__children\">-110</span></span></span></div></div></div></td><td class=\"best-odds__last-type-cell\"><div class=\"best-odds__odds-container\"><div class=\"custom-12j24de ena22470\"><div class=\"book-cell__odds\" data-testid=\"book-cell__odds\"><span class=\"custom-10akt0p ena22471\"><span class=\"custom-wkctv e7ufv0u0\" color=\"nothing\"><svg class=\"highlight-text__arrow highlight-text__arrow--placeholder custom-inrq evhdyr10\" fill=\"#00C358\" height=\"40\" stroke=\"#00C358\" stroke-width=\"0\" viewbox=\"0 0 24 24\" width=\"40\" xmlns=\"https://www.w3.org/2000/svg\"><title>Right Arrow</title><path d=\"M10 6L8.59 7.41 13.17 12l-4.58 4.59L10 18l6-6z\"></path></svg><span class=\"highlight-text__children\">+3.5</span></span></span><span class=\"book-cell__secondary\"><span class=\"custom-amkfwb e7ufv0u0\" color=\"nothing\"><span class=\"highlight-text__children\">-109</span></span></span></div></div><div class=\"custom-5d751z ena22470\"><div class=\"book-cell__odds\" data-testid=\"book-cell__odds\"><span class=\"custom-1qynun2 ena22471\"><span class=\"custom-wkctv e7ufv0u0\" color=\"nothing\"><svg class=\"highlight-text__arrow highlight-text__arrow--placeholder custom-inrq evhdyr10\" fill=\"#00C358\" height=\"40\" stroke=\"#00C358\" stroke-width=\"0\" viewbox=\"0 0 24 24\" width=\"40\" xmlns=\"https://www.w3.org/2000/svg\"><title>Right Arrow</title><path d=\"M10 6L8.59 7.41 13.17 12l-4.58 4.59L10 18l6-6z\"></path></svg><span class=\"highlight-text__children\">-3.5</span></span></span><span class=\"book-cell__secondary\"><span class=\"custom-amkfwb e7ufv0u0\" color=\"nothing\"><span class=\"highlight-text__children\">-112</span></span></span></div></div></div></td><td class=\"best-odds__last-type-cell\"><div class=\"best-odds__odds-container\"><div class=\"custom-5d751z ena22470\"><div class=\"book-cell__odds\" data-testid=\"book-cell__odds\"><span class=\"custom-1qynun2 ena22471\"><span class=\"custom-wkctv e7ufv0u0\" color=\"nothing\"><svg class=\"highlight-text__arrow highlight-text__arrow--placeholder custom-inrq evhdyr10\" fill=\"#00C358\" height=\"40\" stroke=\"#00C358\" stroke-width=\"0\" viewbox=\"0 0 24 24\" width=\"40\" xmlns=\"https://www.w3.org/2000/svg\"><title>Right Arrow</title><path d=\"M10 6L8.59 7.41 13.17 12l-4.58 4.59L10 18l6-6z\"></path></svg><span class=\"highlight-text__children\">+3</span></span></span><span class=\"book-cell__secondary\"><span class=\"custom-amkfwb e7ufv0u0\" color=\"nothing\"><span class=\"highlight-text__children\">-110</span></span></span></div></div><div class=\"custom-5d751z ena22470\"><div class=\"book-cell__odds\" data-testid=\"book-cell__odds\"><span class=\"custom-1qynun2 ena22471\"><span class=\"custom-wkctv e7ufv0u0\" color=\"nothing\"><svg class=\"highlight-text__arrow highlight-text__arrow--placeholder custom-inrq evhdyr10\" fill=\"#00C358\" height=\"40\" stroke=\"#00C358\" stroke-width=\"0\" viewbox=\"0 0 24 24\" width=\"40\" xmlns=\"https://www.w3.org/2000/svg\"><title>Right Arrow</title><path d=\"M10 6L8.59 7.41 13.17 12l-4.58 4.59L10 18l6-6z\"></path></svg><span class=\"highlight-text__children\">-3</span></span></span><span class=\"book-cell__secondary\"><span class=\"custom-amkfwb e7ufv0u0\" color=\"nothing\"><span class=\"highlight-text__children\">-110</span></span></span></div></div></div></td><td class=\"best-odds__last-type-cell\"><div class=\"best-odds__odds-container\"><div class=\"custom-12j24de ena22470\"><div class=\"book-cell__odds\" data-testid=\"book-cell__odds\"><span class=\"custom-10akt0p ena22471\"><span class=\"custom-wkctv e7ufv0u0\" color=\"nothing\"><svg class=\"highlight-text__arrow highlight-text__arrow--placeholder custom-inrq evhdyr10\" fill=\"#00C358\" height=\"40\" stroke=\"#00C358\" stroke-width=\"0\" viewbox=\"0 0 24 24\" width=\"40\" xmlns=\"https://www.w3.org/2000/svg\"><title>Right Arrow</title><path d=\"M10 6L8.59 7.41 13.17 12l-4.58 4.59L10 18l6-6z\"></path></svg><span class=\"highlight-text__children\">+3.5</span></span></span><span class=\"book-cell__secondary\"><span class=\"custom-amkfwb e7ufv0u0\" color=\"nothing\"><span class=\"highlight-text__children\">-109</span></span></span></div></div><div class=\"custom-5d751z ena22470\"><div class=\"book-cell__odds\" data-testid=\"book-cell__odds\"><span class=\"custom-1qynun2 ena22471\"><span class=\"custom-wkctv e7ufv0u0\" color=\"nothing\"><svg class=\"highlight-text__arrow highlight-text__arrow--placeholder custom-inrq evhdyr10\" fill=\"#00C358\" height=\"40\" stroke=\"#00C358\" stroke-width=\"0\" viewbox=\"0 0 24 24\" width=\"40\" xmlns=\"https://www.w3.org/2000/svg\"><title>Right Arrow</title><path d=\"M10 6L8.59 7.41 13.17 12l-4.58 4.59L10 18l6-6z\"></path></svg><span class=\"highlight-text__children\">-3.5</span></span></span><span class=\"book-cell__secondary\"><span class=\"custom-amkfwb e7ufv0u0\" color=\"nothing\"><span class=\"highlight-text__children\">-112</span></span></span></div></div></div></td><td class=\"best-odds__last-type-cell\"><div class=\"best-odds__odds-container\"><div class=\"custom-5d751z ena22470\"><div class=\"book-cell__odds\" data-testid=\"book-cell__odds\"><span class=\"custom-1qynun2 ena22471\"><span class=\"custom-wkctv e7ufv0u0\" color=\"nothing\"><svg class=\"highlight-text__arrow highlight-text__arrow--placeholder custom-inrq evhdyr10\" fill=\"#00C358\" height=\"40\" stroke=\"#00C358\" stroke-width=\"0\" viewbox=\"0 0 24 24\" width=\"40\" xmlns=\"https://www.w3.org/2000/svg\"><title>Right Arrow</title><path d=\"M10 6L8.59 7.41 13.17 12l-4.58 4.59L10 18l6-6z\"></path></svg><span class=\"highlight-text__children\">+3</span></span></span><span class=\"book-cell__secondary\"><span class=\"custom-amkfwb e7ufv0u0\" color=\"nothing\"><span class=\"highlight-text__children\">-110</span></span></span></div></div><div class=\"custom-5d751z ena22470\"><div class=\"book-cell__odds\" data-testid=\"book-cell__odds\"><span class=\"custom-1qynun2 ena22471\"><span class=\"custom-wkctv e7ufv0u0\" color=\"nothing\"><svg class=\"highlight-text__arrow highlight-text__arrow--placeholder custom-inrq evhdyr10\" fill=\"#00C358\" height=\"40\" stroke=\"#00C358\" stroke-width=\"0\" viewbox=\"0 0 24 24\" width=\"40\" xmlns=\"https://www.w3.org/2000/svg\"><title>Right Arrow</title><path d=\"M10 6L8.59 7.41 13.17 12l-4.58 4.59L10 18l6-6z\"></path></svg><span class=\"highlight-text__children\">-3</span></span></span><span class=\"book-cell__secondary\"><span class=\"custom-amkfwb e7ufv0u0\" color=\"nothing\"><span class=\"highlight-text__children\">-110</span></span></span></div></div></div></td></tr><tr><td><div class=\"best-odds__game-info best-odds__last-type-cell\"><div class=\"best-odds__game-status\">Final</div><a class=\"custom-1acqyub e1ahblxx0\" href=\"/nba-game/bucks-76ers-score-odds-november-9-2021/108969\"><div class=\"game-info__teams\"><div class=\"game-info__team\"><span class=\"game-info__rot-number\">517</span><div class=\"game-info__placeholder\"><div class=\"lazyload-wrapper\"><div class=\"lazyload-placeholder\"></div></div></div><div class=\"game-info__team--desktop\">Bucks</div><div class=\"game-info__team--mobile\">MIL</div></div><div class=\"game-info__score\"><div>118</div></div></div><div class=\"game-info__teams\"><div class=\"game-info__team\"><span class=\"game-info__rot-number\">518</span><div class=\"game-info__placeholder\"><div class=\"lazyload-wrapper\"><div class=\"lazyload-placeholder\"></div></div></div><div class=\"game-info__team--desktop\"><span class=\"game-info__team--desktop\">76ers</span></div><div class=\"game-info__team--mobile\"><span class=\"game-info__team--mobile\">PHI</span></div></div><div class=\"game-info__score\"><div>109</div></div></div></a></div></td><td><div class=\"best-odds__open-container best-odds__last-type-cell\"><div class=\"best-odds__open-cell\">-6</div><div class=\"best-odds__open-cell\">+6</div></div></td><td class=\"best-odds__last-type-cell\"><div class=\"best-odds__odds-container\"><div class=\"custom-5d751z ena22470\"><div class=\"book-cell__odds\" data-testid=\"book-cell__odds\"><span class=\"custom-1qynun2 ena22471\"><span class=\"custom-wkctv e7ufv0u0\" color=\"nothing\"><svg class=\"highlight-text__arrow highlight-text__arrow--placeholder custom-inrq evhdyr10\" fill=\"#00C358\" height=\"40\" stroke=\"#00C358\" stroke-width=\"0\" viewbox=\"0 0 24 24\" width=\"40\" xmlns=\"https://www.w3.org/2000/svg\"><title>Right Arrow</title><path d=\"M10 6L8.59 7.41 13.17 12l-4.58 4.59L10 18l6-6z\"></path></svg><span class=\"highlight-text__children\">-7</span></span></span><span class=\"book-cell__secondary\"><span class=\"custom-amkfwb e7ufv0u0\" color=\"nothing\"><span class=\"highlight-text__children\">-110</span></span></span></div></div><div class=\"custom-5d751z ena22470\"><div class=\"book-cell__odds\" data-testid=\"book-cell__odds\"><span class=\"custom-1qynun2 ena22471\"><span class=\"custom-wkctv e7ufv0u0\" color=\"nothing\"><svg class=\"highlight-text__arrow highlight-text__arrow--placeholder custom-inrq evhdyr10\" fill=\"#00C358\" height=\"40\" stroke=\"#00C358\" stroke-width=\"0\" viewbox=\"0 0 24 24\" width=\"40\" xmlns=\"https://www.w3.org/2000/svg\"><title>Right Arrow</title><path d=\"M10 6L8.59 7.41 13.17 12l-4.58 4.59L10 18l6-6z\"></path></svg><span class=\"highlight-text__children\">+7</span></span></span><span class=\"book-cell__secondary\"><span class=\"custom-amkfwb e7ufv0u0\" color=\"nothing\"><span class=\"highlight-text__children\">-110</span></span></span></div></div></div></td><td class=\"best-odds__last-type-cell\"><div class=\"best-odds__odds-container\"><div class=\"custom-5d751z ena22470\"><div class=\"book-cell__odds\" data-testid=\"book-cell__odds\"><span class=\"custom-1qynun2 ena22471\"><span class=\"custom-wkctv e7ufv0u0\" color=\"nothing\"><svg class=\"highlight-text__arrow highlight-text__arrow--placeholder custom-inrq evhdyr10\" fill=\"#00C358\" height=\"40\" stroke=\"#00C358\" stroke-width=\"0\" viewbox=\"0 0 24 24\" width=\"40\" xmlns=\"https://www.w3.org/2000/svg\"><title>Right Arrow</title><path d=\"M10 6L8.59 7.41 13.17 12l-4.58 4.59L10 18l6-6z\"></path></svg><span class=\"highlight-text__children\">-7</span></span></span><span class=\"book-cell__secondary\"><span class=\"custom-amkfwb e7ufv0u0\" color=\"nothing\"><span class=\"highlight-text__children\">-110</span></span></span></div></div><div class=\"custom-5d751z ena22470\"><div class=\"book-cell__odds\" data-testid=\"book-cell__odds\"><span class=\"custom-1qynun2 ena22471\"><span class=\"custom-wkctv e7ufv0u0\" color=\"nothing\"><svg class=\"highlight-text__arrow highlight-text__arrow--placeholder custom-inrq evhdyr10\" fill=\"#00C358\" height=\"40\" stroke=\"#00C358\" stroke-width=\"0\" viewbox=\"0 0 24 24\" width=\"40\" xmlns=\"https://www.w3.org/2000/svg\"><title>Right Arrow</title><path d=\"M10 6L8.59 7.41 13.17 12l-4.58 4.59L10 18l6-6z\"></path></svg><span class=\"highlight-text__children\">+7</span></span></span><span class=\"book-cell__secondary\"><span class=\"custom-amkfwb e7ufv0u0\" color=\"nothing\"><span class=\"highlight-text__children\">-110</span></span></span></div></div></div></td><td class=\"best-odds__last-type-cell\"><div class=\"best-odds__odds-container\"><div class=\"custom-5d751z ena22470\"><div class=\"book-cell__odds\" data-testid=\"book-cell__odds\"><span class=\"custom-1qynun2 ena22471\"><span class=\"custom-wkctv e7ufv0u0\" color=\"nothing\"><svg class=\"highlight-text__arrow highlight-text__arrow--placeholder custom-inrq evhdyr10\" fill=\"#00C358\" height=\"40\" stroke=\"#00C358\" stroke-width=\"0\" viewbox=\"0 0 24 24\" width=\"40\" xmlns=\"https://www.w3.org/2000/svg\"><title>Right Arrow</title><path d=\"M10 6L8.59 7.41 13.17 12l-4.58 4.59L10 18l6-6z\"></path></svg><span class=\"highlight-text__children\">-7</span></span></span><span class=\"book-cell__secondary\"><span class=\"custom-amkfwb e7ufv0u0\" color=\"nothing\"><span class=\"highlight-text__children\">-110</span></span></span></div></div><div class=\"custom-5d751z ena22470\"><div class=\"book-cell__odds\" data-testid=\"book-cell__odds\"><span class=\"custom-1qynun2 ena22471\"><span class=\"custom-wkctv e7ufv0u0\" color=\"nothing\"><svg class=\"highlight-text__arrow highlight-text__arrow--placeholder custom-inrq evhdyr10\" fill=\"#00C358\" height=\"40\" stroke=\"#00C358\" stroke-width=\"0\" viewbox=\"0 0 24 24\" width=\"40\" xmlns=\"https://www.w3.org/2000/svg\"><title>Right Arrow</title><path d=\"M10 6L8.59 7.41 13.17 12l-4.58 4.59L10 18l6-6z\"></path></svg><span class=\"highlight-text__children\">+7</span></span></span><span class=\"book-cell__secondary\"><span class=\"custom-amkfwb e7ufv0u0\" color=\"nothing\"><span class=\"highlight-text__children\">-110</span></span></span></div></div></div></td><td class=\"best-odds__last-type-cell\"><div class=\"best-odds__odds-container\"><div class=\"custom-5d751z ena22470\"><div class=\"book-cell__odds\" data-testid=\"book-cell__odds\"><span class=\"custom-1qynun2 ena22471\"><span class=\"custom-wkctv e7ufv0u0\" color=\"nothing\"><svg class=\"highlight-text__arrow highlight-text__arrow--placeholder custom-inrq evhdyr10\" fill=\"#00C358\" height=\"40\" stroke=\"#00C358\" stroke-width=\"0\" viewbox=\"0 0 24 24\" width=\"40\" xmlns=\"https://www.w3.org/2000/svg\"><title>Right Arrow</title><path d=\"M10 6L8.59 7.41 13.17 12l-4.58 4.59L10 18l6-6z\"></path></svg><span class=\"highlight-text__children\">-6.5</span></span></span><span class=\"book-cell__secondary\"><span class=\"custom-amkfwb e7ufv0u0\" color=\"nothing\"><span class=\"highlight-text__children\">-115</span></span></span></div></div><div class=\"custom-5d751z ena22470\"><div class=\"book-cell__odds\" data-testid=\"book-cell__odds\"><span class=\"custom-1qynun2 ena22471\"><span class=\"custom-wkctv e7ufv0u0\" color=\"nothing\"><svg class=\"highlight-text__arrow highlight-text__arrow--placeholder custom-inrq evhdyr10\" fill=\"#00C358\" height=\"40\" stroke=\"#00C358\" stroke-width=\"0\" viewbox=\"0 0 24 24\" width=\"40\" xmlns=\"https://www.w3.org/2000/svg\"><title>Right Arrow</title><path d=\"M10 6L8.59 7.41 13.17 12l-4.58 4.59L10 18l6-6z\"></path></svg><span class=\"highlight-text__children\">+6.5</span></span></span><span class=\"book-cell__secondary\"><span class=\"custom-amkfwb e7ufv0u0\" color=\"nothing\"><span class=\"highlight-text__children\">-105</span></span></span></div></div></div></td><td class=\"best-odds__last-type-cell\"><div class=\"best-odds__odds-container\"><div class=\"custom-5d751z ena22470\"><div class=\"book-cell__odds\" data-testid=\"book-cell__odds\"><span class=\"custom-1qynun2 ena22471\"><span class=\"custom-wkctv e7ufv0u0\" color=\"nothing\"><svg class=\"highlight-text__arrow highlight-text__arrow--placeholder custom-inrq evhdyr10\" fill=\"#00C358\" height=\"40\" stroke=\"#00C358\" stroke-width=\"0\" viewbox=\"0 0 24 24\" width=\"40\" xmlns=\"https://www.w3.org/2000/svg\"><title>Right Arrow</title><path d=\"M10 6L8.59 7.41 13.17 12l-4.58 4.59L10 18l6-6z\"></path></svg><span class=\"highlight-text__children\">-7</span></span></span><span class=\"book-cell__secondary\"><span class=\"custom-amkfwb e7ufv0u0\" color=\"nothing\"><span class=\"highlight-text__children\">-114</span></span></span></div></div><div class=\"custom-12j24de ena22470\"><div class=\"book-cell__odds\" data-testid=\"book-cell__odds\"><span class=\"custom-10akt0p ena22471\"><span class=\"custom-wkctv e7ufv0u0\" color=\"nothing\"><svg class=\"highlight-text__arrow highlight-text__arrow--placeholder custom-inrq evhdyr10\" fill=\"#00C358\" height=\"40\" stroke=\"#00C358\" stroke-width=\"0\" viewbox=\"0 0 24 24\" width=\"40\" xmlns=\"https://www.w3.org/2000/svg\"><title>Right Arrow</title><path d=\"M10 6L8.59 7.41 13.17 12l-4.58 4.59L10 18l6-6z\"></path></svg><span class=\"highlight-text__children\">+7</span></span></span><span class=\"book-cell__secondary\"><span class=\"custom-amkfwb e7ufv0u0\" color=\"nothing\"><span class=\"highlight-text__children\">-108</span></span></span></div></div></div></td><td class=\"best-odds__last-type-cell\"><div class=\"best-odds__odds-container\"><div class=\"custom-5d751z ena22470\"><div class=\"book-cell__odds\" data-testid=\"book-cell__odds\"><span class=\"custom-1qynun2 ena22471\"><span class=\"custom-wkctv e7ufv0u0\" color=\"nothing\"><svg class=\"highlight-text__arrow highlight-text__arrow--placeholder custom-inrq evhdyr10\" fill=\"#00C358\" height=\"40\" stroke=\"#00C358\" stroke-width=\"0\" viewbox=\"0 0 24 24\" width=\"40\" xmlns=\"https://www.w3.org/2000/svg\"><title>Right Arrow</title><path d=\"M10 6L8.59 7.41 13.17 12l-4.58 4.59L10 18l6-6z\"></path></svg><span class=\"highlight-text__children\">-7</span></span></span><span class=\"book-cell__secondary\"><span class=\"custom-amkfwb e7ufv0u0\" color=\"nothing\"><span class=\"highlight-text__children\">-110</span></span></span></div></div><div class=\"custom-5d751z ena22470\"><div class=\"book-cell__odds\" data-testid=\"book-cell__odds\"><span class=\"custom-1qynun2 ena22471\"><span class=\"custom-wkctv e7ufv0u0\" color=\"nothing\"><svg class=\"highlight-text__arrow highlight-text__arrow--placeholder custom-inrq evhdyr10\" fill=\"#00C358\" height=\"40\" stroke=\"#00C358\" stroke-width=\"0\" viewbox=\"0 0 24 24\" width=\"40\" xmlns=\"https://www.w3.org/2000/svg\"><title>Right Arrow</title><path d=\"M10 6L8.59 7.41 13.17 12l-4.58 4.59L10 18l6-6z\"></path></svg><span class=\"highlight-text__children\">+7</span></span></span><span class=\"book-cell__secondary\"><span class=\"custom-amkfwb e7ufv0u0\" color=\"nothing\"><span class=\"highlight-text__children\">-110</span></span></span></div></div></div></td><td class=\"best-odds__last-type-cell\"><div class=\"best-odds__odds-container\"><div class=\"custom-5d751z ena22470\"><div class=\"book-cell__odds\" data-testid=\"book-cell__odds\"><span class=\"custom-1qynun2 ena22471\"><span class=\"custom-wkctv e7ufv0u0\" color=\"nothing\"><svg class=\"highlight-text__arrow highlight-text__arrow--placeholder custom-inrq evhdyr10\" fill=\"#00C358\" height=\"40\" stroke=\"#00C358\" stroke-width=\"0\" viewbox=\"0 0 24 24\" width=\"40\" xmlns=\"https://www.w3.org/2000/svg\"><title>Right Arrow</title><path d=\"M10 6L8.59 7.41 13.17 12l-4.58 4.59L10 18l6-6z\"></path></svg><span class=\"highlight-text__children\">-7</span></span></span><span class=\"book-cell__secondary\"><span class=\"custom-amkfwb e7ufv0u0\" color=\"nothing\"><span class=\"highlight-text__children\">-114</span></span></span></div></div><div class=\"custom-12j24de ena22470\"><div class=\"book-cell__odds\" data-testid=\"book-cell__odds\"><span class=\"custom-10akt0p ena22471\"><span class=\"custom-wkctv e7ufv0u0\" color=\"nothing\"><svg class=\"highlight-text__arrow highlight-text__arrow--placeholder custom-inrq evhdyr10\" fill=\"#00C358\" height=\"40\" stroke=\"#00C358\" stroke-width=\"0\" viewbox=\"0 0 24 24\" width=\"40\" xmlns=\"https://www.w3.org/2000/svg\"><title>Right Arrow</title><path d=\"M10 6L8.59 7.41 13.17 12l-4.58 4.59L10 18l6-6z\"></path></svg><span class=\"highlight-text__children\">+7</span></span></span><span class=\"book-cell__secondary\"><span class=\"custom-amkfwb e7ufv0u0\" color=\"nothing\"><span class=\"highlight-text__children\">-108</span></span></span></div></div></div></td><td class=\"best-odds__last-type-cell\"><div class=\"best-odds__odds-container\"><div class=\"custom-12j24de ena22470\"><div class=\"book-cell__odds\" data-testid=\"book-cell__odds\"><span class=\"custom-10akt0p ena22471\"><span class=\"custom-wkctv e7ufv0u0\" color=\"nothing\"><svg class=\"highlight-text__arrow highlight-text__arrow--placeholder custom-inrq evhdyr10\" fill=\"#00C358\" height=\"40\" stroke=\"#00C358\" stroke-width=\"0\" viewbox=\"0 0 24 24\" width=\"40\" xmlns=\"https://www.w3.org/2000/svg\"><title>Right Arrow</title><path d=\"M10 6L8.59 7.41 13.17 12l-4.58 4.59L10 18l6-6z\"></path></svg><span class=\"highlight-text__children\">-6.5</span></span></span><span class=\"book-cell__secondary\"><span class=\"custom-amkfwb e7ufv0u0\" color=\"nothing\"><span class=\"highlight-text__children\">-110</span></span></span></div></div><div class=\"custom-5d751z ena22470\"><div class=\"book-cell__odds\" data-testid=\"book-cell__odds\"><span class=\"custom-1qynun2 ena22471\"><span class=\"custom-wkctv e7ufv0u0\" color=\"nothing\"><svg class=\"highlight-text__arrow highlight-text__arrow--placeholder custom-inrq evhdyr10\" fill=\"#00C358\" height=\"40\" stroke=\"#00C358\" stroke-width=\"0\" viewbox=\"0 0 24 24\" width=\"40\" xmlns=\"https://www.w3.org/2000/svg\"><title>Right Arrow</title><path d=\"M10 6L8.59 7.41 13.17 12l-4.58 4.59L10 18l6-6z\"></path></svg><span class=\"highlight-text__children\">+6.5</span></span></span><span class=\"book-cell__secondary\"><span class=\"custom-amkfwb e7ufv0u0\" color=\"nothing\"><span class=\"highlight-text__children\">-110</span></span></span></div></div></div></td></tr></tbody></table></div>]"
      ]
     },
     "execution_count": 73,
     "metadata": {},
     "output_type": "execute_result"
    }
   ],
   "source": [
    "odds_soup"
   ]
  },
  {
   "cell_type": "code",
   "execution_count": 95,
   "metadata": {},
   "outputs": [],
   "source": [
    "def nba_odds(html):\n",
    "    \n",
    "    odds = []\n",
    "    \n",
    "    # Finds all the TR tags in the soup_table\n",
    "    soup_table = odds_soup[0].find_all('tr')\n",
    "    \n",
    "    # The list of the bookies\n",
    "    bookie_list = ['Draft Kings', 'Bet MGM', 'Fanduel', 'PointsBet', 'Sugar House', 'Bet365', 'Unibet', 'Caesar' + \"'s \" + 'Sportsbook']\n",
    "    \n",
    "    # Sets the index to 1\n",
    "    ind = 1\n",
    "    \n",
    "    for game in soup_table[1:]:\n",
    "        # Create dictionaries for odds of each team\n",
    "        team1_odds = dict()\n",
    "        team2_odds = dict()\n",
    "        \n",
    "        # Grabs the div tag with the specified class\n",
    "        team_names = game.find_all('div', class_='game-info__team')\n",
    "        \n",
    "        # Grabs the team names from the html\n",
    "        name1 = team_names[0].find(class_='game-info__team--desktop').text\n",
    "        name2 = team_names[1].find(class_='game-info__team--desktop').text\n",
    "        \n",
    "        # Sets the Team Names in the Dictionaries\n",
    "        team1_odds['Team'] = name1\n",
    "        team2_odds['Team'] = name2\n",
    "        \n",
    "        # Access the tag for game odds\n",
    "        game_layer1 = game.find_all('td', class_='best-odds__last-type-cell')\n",
    "        \n",
    "        # Sets the index to 0\n",
    "        index = 0\n",
    "        \n",
    "        # Loops through the odds by each bookie\n",
    "        for bookie in game_layer1:\n",
    "            odds_team1 = bookie.find_all('span', class_='highlight-text__children')[0].text\n",
    "            odds_team2 = bookie.find_all('span', class_='highlight-text__children')[2].text\n",
    "        \n",
    "            # Assigns the Name to the Dictionary\n",
    "            bookie = bookie_list[index]\n",
    "            team1_odds[bookie] = odds_team1\n",
    "            team2_odds[bookie] = odds_team2\n",
    "            \n",
    "            index += 1\n",
    "            \n",
    "        ind += 1\n",
    "        \n",
    "        # Appends the odds information into the odds list\n",
    "        odds.append(team1_odds)\n",
    "        odds.append(team2_odds)\n",
    "        \n",
    "    # Instantiates the DataFrame of Soccer Odds\n",
    "    nba_odds_df = pd.DataFrame(odds)\n",
    "    pd.set_option('display.max_columns', 500)\n",
    "\n",
    "    # Sends the odds to an excel sheet in a specified folder (This folder can be changed to wherever you want)\n",
    "    dt = datetime.now()\n",
    "    writer = pd.ExcelWriter(r'/Users/sarahcasale/Documents/Betting Scraper/' + dt.strftime('%b-%d-%Y') + '_nba_data' + '.xlsx')\n",
    "    nba_odds_df.to_excel(writer, sheet_name='NBA', index=False, na_rep='NaN')\n",
    "    \n",
    "    # Auto-adjust columns' width\n",
    "    for column in nba_odds_df:\n",
    "        column_width = max(nba_odds_df[column].astype(str).map(len).max(), len(column))\n",
    "        col_idx = nba_odds_df.columns.get_loc(column)\n",
    "        writer.sheets['NBA'].set_column(col_idx, col_idx, column_width)\n",
    "    \n",
    "    writer.save()\n",
    "    \n",
    "    return nba_odds_df"
   ]
  },
  {
   "cell_type": "code",
   "execution_count": 96,
   "metadata": {},
   "outputs": [],
   "source": [
    "nba_odds_df = nba_odds(html)"
   ]
  },
  {
   "cell_type": "code",
   "execution_count": 97,
   "metadata": {},
   "outputs": [
    {
     "data": {
      "text/html": [
       "<div>\n",
       "<style scoped>\n",
       "    .dataframe tbody tr th:only-of-type {\n",
       "        vertical-align: middle;\n",
       "    }\n",
       "\n",
       "    .dataframe tbody tr th {\n",
       "        vertical-align: top;\n",
       "    }\n",
       "\n",
       "    .dataframe thead th {\n",
       "        text-align: right;\n",
       "    }\n",
       "</style>\n",
       "<table border=\"1\" class=\"dataframe\">\n",
       "  <thead>\n",
       "    <tr style=\"text-align: right;\">\n",
       "      <th></th>\n",
       "      <th>Team</th>\n",
       "      <th>Draft Kings</th>\n",
       "      <th>Bet MGM</th>\n",
       "      <th>Fanduel</th>\n",
       "      <th>PointsBet</th>\n",
       "      <th>Sugar House</th>\n",
       "      <th>Bet365</th>\n",
       "      <th>Unibet</th>\n",
       "      <th>Caesar's Sportsbook</th>\n",
       "    </tr>\n",
       "  </thead>\n",
       "  <tbody>\n",
       "    <tr>\n",
       "      <th>0</th>\n",
       "      <td>Hawks</td>\n",
       "      <td>+9</td>\n",
       "      <td>+7.5</td>\n",
       "      <td>+9</td>\n",
       "      <td>+8.5</td>\n",
       "      <td>+8.5</td>\n",
       "      <td>+8.5</td>\n",
       "      <td>+8.5</td>\n",
       "      <td>+8.5</td>\n",
       "    </tr>\n",
       "    <tr>\n",
       "      <th>1</th>\n",
       "      <td>Jazz</td>\n",
       "      <td>-9</td>\n",
       "      <td>-7.5</td>\n",
       "      <td>-9</td>\n",
       "      <td>-8.5</td>\n",
       "      <td>-8.5</td>\n",
       "      <td>-8.5</td>\n",
       "      <td>-8.5</td>\n",
       "      <td>-8.5</td>\n",
       "    </tr>\n",
       "    <tr>\n",
       "      <th>2</th>\n",
       "      <td>Trail Blazers</td>\n",
       "      <td>+3</td>\n",
       "      <td>+2.5</td>\n",
       "      <td>+3</td>\n",
       "      <td>+3</td>\n",
       "      <td>+3.5</td>\n",
       "      <td>+3</td>\n",
       "      <td>+3.5</td>\n",
       "      <td>+3</td>\n",
       "    </tr>\n",
       "    <tr>\n",
       "      <th>3</th>\n",
       "      <td>Clippers</td>\n",
       "      <td>-3</td>\n",
       "      <td>-2.5</td>\n",
       "      <td>-3</td>\n",
       "      <td>-3</td>\n",
       "      <td>-3.5</td>\n",
       "      <td>-3</td>\n",
       "      <td>-3.5</td>\n",
       "      <td>-3</td>\n",
       "    </tr>\n",
       "    <tr>\n",
       "      <th>4</th>\n",
       "      <td>Bucks</td>\n",
       "      <td>-7</td>\n",
       "      <td>-7</td>\n",
       "      <td>-7</td>\n",
       "      <td>-6.5</td>\n",
       "      <td>-7</td>\n",
       "      <td>-7</td>\n",
       "      <td>-7</td>\n",
       "      <td>-6.5</td>\n",
       "    </tr>\n",
       "    <tr>\n",
       "      <th>5</th>\n",
       "      <td>76ers</td>\n",
       "      <td>+7</td>\n",
       "      <td>+7</td>\n",
       "      <td>+7</td>\n",
       "      <td>+6.5</td>\n",
       "      <td>+7</td>\n",
       "      <td>+7</td>\n",
       "      <td>+7</td>\n",
       "      <td>+6.5</td>\n",
       "    </tr>\n",
       "  </tbody>\n",
       "</table>\n",
       "</div>"
      ],
      "text/plain": [
       "            Team Draft Kings Bet MGM Fanduel PointsBet Sugar House Bet365  \\\n",
       "0          Hawks          +9    +7.5      +9      +8.5        +8.5   +8.5   \n",
       "1           Jazz          -9    -7.5      -9      -8.5        -8.5   -8.5   \n",
       "2  Trail Blazers          +3    +2.5      +3        +3        +3.5     +3   \n",
       "3       Clippers          -3    -2.5      -3        -3        -3.5     -3   \n",
       "4          Bucks          -7      -7      -7      -6.5          -7     -7   \n",
       "5          76ers          +7      +7      +7      +6.5          +7     +7   \n",
       "\n",
       "  Unibet Caesar's Sportsbook  \n",
       "0   +8.5                +8.5  \n",
       "1   -8.5                -8.5  \n",
       "2   +3.5                  +3  \n",
       "3   -3.5                  -3  \n",
       "4     -7                -6.5  \n",
       "5     +7                +6.5  "
      ]
     },
     "execution_count": 97,
     "metadata": {},
     "output_type": "execute_result"
    }
   ],
   "source": [
    "nba_odds_df"
   ]
  },
  {
   "cell_type": "code",
   "execution_count": null,
   "metadata": {},
   "outputs": [],
   "source": []
  }
 ],
 "metadata": {
  "kernelspec": {
   "display_name": "Python 3",
   "language": "python",
   "name": "python3"
  },
  "language_info": {
   "codemirror_mode": {
    "name": "ipython",
    "version": 3
   },
   "file_extension": ".py",
   "mimetype": "text/x-python",
   "name": "python",
   "nbconvert_exporter": "python",
   "pygments_lexer": "ipython3",
   "version": "3.8.5"
  }
 },
 "nbformat": 4,
 "nbformat_minor": 4
}
